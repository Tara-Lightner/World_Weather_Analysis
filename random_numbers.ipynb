{
 "cells": [
  {
   "cell_type": "code",
   "execution_count": 1,
   "id": "efae1655",
   "metadata": {},
   "outputs": [],
   "source": [
    "# Import the random module.\n",
    "import random"
   ]
  },
  {
   "cell_type": "code",
   "execution_count": 2,
   "id": "95d5b122",
   "metadata": {},
   "outputs": [
    {
     "data": {
      "text/plain": [
       "83"
      ]
     },
     "execution_count": 2,
     "metadata": {},
     "output_type": "execute_result"
    }
   ],
   "source": [
    "# The randint() Function .... short for \"random integer.\n",
    "random.randint(-90, 90)"
   ]
  },
  {
   "cell_type": "code",
   "execution_count": 3,
   "id": "c1bb054f",
   "metadata": {},
   "outputs": [
    {
     "data": {
      "text/plain": [
       "0.89534543967929"
      ]
     },
     "execution_count": 3,
     "metadata": {},
     "output_type": "execute_result"
    }
   ],
   "source": [
    "# The random() Function\n",
    "# random() we can get a single floating-point decimal number between 0 and 1.0\n",
    "random.random()"
   ]
  },
  {
   "cell_type": "code",
   "execution_count": 4,
   "id": "107c1406",
   "metadata": {},
   "outputs": [
    {
     "data": {
      "text/plain": [
       "-58.46550676413828"
      ]
     },
     "execution_count": 4,
     "metadata": {},
     "output_type": "execute_result"
    }
   ],
   "source": [
    "# combine randint and random functions\n",
    "random_number = random.randint(-90, 89) + random.random()\n",
    "random_number"
   ]
  },
  {
   "cell_type": "code",
   "execution_count": 5,
   "id": "1941b7ff",
   "metadata": {},
   "outputs": [
    {
     "data": {
      "text/plain": [
       "float"
      ]
     },
     "execution_count": 5,
     "metadata": {},
     "output_type": "execute_result"
    }
   ],
   "source": [
    "# what is it when we combing and integer function with a floating decimal point number? ...in this case a float\n",
    "type(random_number)"
   ]
  },
  {
   "cell_type": "code",
   "execution_count": 6,
   "id": "94b6b5ac",
   "metadata": {},
   "outputs": [
    {
     "data": {
      "text/plain": [
       "[-59.72805616217518,\n",
       " 15.895311500371285,\n",
       " -31.031496661972593,\n",
       " 17.228314803503444,\n",
       " 77.92020847480586,\n",
       " 81.39930102864179,\n",
       " -38.29576554169357,\n",
       " -55.59010196562509,\n",
       " -26.96225336089486,\n",
       " -88.94556002977562]"
      ]
     },
     "execution_count": 6,
     "metadata": {},
     "output_type": "execute_result"
    }
   ],
   "source": [
    "x = 1\n",
    "latitudes = []\n",
    "while x < 11:\n",
    "    random_lat = random.randint(-90, 89) + random.random()\n",
    "    latitudes.append(random_lat)\n",
    "    x += 1\n",
    "latitudes\n",
    "# What is the above code doing? .... In the code block above, we:\n",
    "# Assign the variable x to 1.\n",
    "# Initialize an empty list, latitudes.\n",
    "# We create a while loop where we generate a random latitude and add it to the list.\n",
    "# After the random latitude is added to the list we add one to the variable \"x\".\n",
    "# The while loop condition is checked again and will continue to run as long as x is less than 11."
   ]
  },
  {
   "cell_type": "code",
   "execution_count": 7,
   "id": "968ab8c1",
   "metadata": {},
   "outputs": [
    {
     "data": {
      "text/plain": [
       "68"
      ]
     },
     "execution_count": 7,
     "metadata": {},
     "output_type": "execute_result"
    }
   ],
   "source": [
    "# The randrange() Function\n",
    "# the step= means .... the difference between each number in the sequence is 3\n",
    "# step = 1 is the default\n",
    "random.randrange(-90, 90, step=1)"
   ]
  },
  {
   "cell_type": "code",
   "execution_count": 8,
   "id": "c9fb2ff4",
   "metadata": {},
   "outputs": [
    {
     "data": {
      "text/plain": [
       "48"
      ]
     },
     "execution_count": 8,
     "metadata": {},
     "output_type": "execute_result"
    }
   ],
   "source": [
    "random.randrange(-90, 90, step=3)"
   ]
  },
  {
   "cell_type": "code",
   "execution_count": 9,
   "id": "3c6e247e",
   "metadata": {},
   "outputs": [
    {
     "data": {
      "text/plain": [
       "34.86780486629361"
      ]
     },
     "execution_count": 9,
     "metadata": {},
     "output_type": "execute_result"
    }
   ],
   "source": [
    "# The uniform() Function .... allow us to generate a floating-point decimal number between two given numbers ...\n",
    "# ...inside the parentheses.\n",
    "\n",
    "random.uniform(-90, 90)"
   ]
  },
  {
   "cell_type": "code",
   "execution_count": 11,
   "id": "db2e6f27",
   "metadata": {},
   "outputs": [],
   "source": [
    "# Table of random functions...\n",
    "# unction\tOutput\tLimitation\n",
    "# randint(-90, 89)\tReturns an integer between the interval, -90 and up to 89.\tWill not generate a floating-point decimal number.\n",
    "# random()\tReturns a floating-point decimal number between 0 and 1.\tWill not generate a whole integer.\n",
    "# andrange(-90, 90, step=1)\tReturns a whole integer between the interval, -90 and 90 where the step is the difference between each number in the sequence.\tWill not generate a floating-point decimal number.\n",
    "# uniform(-90, 90)\tReturns a floating-point decimal number between the interval, -90 and 90.\tWill not generate a whole integer."
   ]
  },
  {
   "cell_type": "code",
   "execution_count": 12,
   "id": "4d6dfaf0",
   "metadata": {},
   "outputs": [],
   "source": [
    "# Import the NumPy module.\n",
    "import numpy as np"
   ]
  },
  {
   "cell_type": "code",
   "execution_count": 13,
   "id": "49c8f533",
   "metadata": {},
   "outputs": [
    {
     "data": {
      "text/plain": [
       "22.313396594267886"
      ]
     },
     "execution_count": 13,
     "metadata": {},
     "output_type": "execute_result"
    }
   ],
   "source": [
    "np.random.uniform(-90.000, 90.000)\n",
    "# another way to write the parameters .... np.random.uniform(low=-90, high=90)"
   ]
  },
  {
   "cell_type": "code",
   "execution_count": 14,
   "id": "5462778c",
   "metadata": {},
   "outputs": [
    {
     "data": {
      "text/plain": [
       "array([ 79.93815828, -64.95744239,  66.41709681,  41.67700451,\n",
       "       -17.10829962, -72.41475544, -46.0831463 , -87.55236788,\n",
       "        -4.75689186,  18.84652254,  -2.30700443,  15.78822107,\n",
       "        20.55372429,  29.3931802 , -74.15804576, -57.99180291,\n",
       "        72.24726563, -18.33651848, -68.0586537 , -85.46076036,\n",
       "        34.19454461,  -5.13459825,   3.98083477, -10.01731147,\n",
       "       -85.9813709 , -16.29763073,  68.02623812,  -4.29003009,\n",
       "       -88.33042022,  16.61956317, -77.54428981,  -5.48230194,\n",
       "       -77.20909807,  87.89162631,  36.25790553,  71.30608481,\n",
       "        26.44109971,  48.29283709,  77.92132229,  49.92758654,\n",
       "       -83.23031679,  -4.89733937,  42.65137947, -69.35888635,\n",
       "       -46.9923137 ,  35.55279204, -45.90161556, -61.25412303,\n",
       "       -51.36298059, -39.82799492])"
      ]
     },
     "execution_count": 14,
     "metadata": {},
     "output_type": "execute_result"
    }
   ],
   "source": [
    "# add size parameter\n",
    "np.random.uniform(-90.000, 90.000, size=50)"
   ]
  },
  {
   "cell_type": "code",
   "execution_count": 15,
   "id": "a6a3f7b2",
   "metadata": {},
   "outputs": [],
   "source": [
    "# Import timeit.\n",
    "import timeit"
   ]
  },
  {
   "cell_type": "code",
   "execution_count": 16,
   "id": "bcfe92b1",
   "metadata": {},
   "outputs": [
    {
     "name": "stdout",
     "output_type": "stream",
     "text": [
      "13.9 µs ± 34.4 ns per loop (mean ± std. dev. of 7 runs, 100000 loops each)\n"
     ]
    }
   ],
   "source": [
    "#  add the %timeit magic command before the np.random.uniform(-90.000, 90.000, size=1500)\n",
    "# I am still lost on the magic command a.k.a. % what is this and when do we use it? \n",
    "\n",
    "%timeit np.random.uniform(-90.000, 90.000, size=1500)"
   ]
  },
  {
   "cell_type": "code",
   "execution_count": 17,
   "id": "dbfc6273",
   "metadata": {},
   "outputs": [
    {
     "name": "stdout",
     "output_type": "stream",
     "text": [
      "2.11 ms ± 346 µs per loop (mean ± std. dev. of 7 runs, 100 loops each)\n"
     ]
    }
   ],
   "source": [
    "# run the WHILE LOOP, as a FUNCTION\n",
    "\n",
    "def latitudes(size):\n",
    "    latitudes = []\n",
    "    x = 0\n",
    "    while x < (size):\n",
    "        random_lat = random.randint(-90, 90) + random.random()\n",
    "        latitudes.append(random_lat)\n",
    "        x += 1\n",
    "    return latitudes\n",
    "# Call the function with 1500.\n",
    "%timeit latitudes(1500)"
   ]
  },
  {
   "cell_type": "code",
   "execution_count": 18,
   "id": "cd51f105",
   "metadata": {},
   "outputs": [
    {
     "name": "stdout",
     "output_type": "stream",
     "text": [
      "14 µs ± 396 ns per loop (mean ± std. dev. of 7 runs, 100000 loops each)\n",
      "1.9 ms ± 68.3 µs per loop (mean ± std. dev. of 7 runs, 1000 loops each)\n"
     ]
    }
   ],
   "source": [
    "# SKILL DRILL - Refactor the code for the while loop with the %timeit magic command and ...\n",
    "# ... write a for loop that will generate the 1,500 latitudes.\n",
    "%timeit  np.random.uniform(-180.000, 180.000, size=1500)\n",
    "def longitudes(size):\n",
    "    longitudes = []\n",
    "    x = 0\n",
    "    while x < (size):\n",
    "        random_long = random.randint(-180, 180) + random.random()\n",
    "        longitudes.append(random_lat)\n",
    "        x += 1\n",
    "    return longitudes\n",
    "# Call the function with 1500.\n",
    "%timeit longitudes(1500)"
   ]
  },
  {
   "cell_type": "code",
   "execution_count": null,
   "id": "5601ffa3",
   "metadata": {},
   "outputs": [],
   "source": [
    "def longitudes(size):\n",
    "    longitudes = []\n",
    "    x = 0\n",
    "    while x < (size):\n",
    "        random_long = random.randint(-180, 180) + random.random()\n",
    "        longitudes.append(random_lat)\n",
    "        x += 1\n",
    "    return longitudes\n",
    "# Call the function with 1500.\n",
    "%timeit longitudes(1500)"
   ]
  },
  {
   "cell_type": "code",
   "execution_count": null,
   "id": "07667cbe",
   "metadata": {},
   "outputs": [],
   "source": []
  }
 ],
 "metadata": {
  "kernelspec": {
   "display_name": "PythonData",
   "language": "python",
   "name": "pythondata"
  },
  "language_info": {
   "codemirror_mode": {
    "name": "ipython",
    "version": 3
   },
   "file_extension": ".py",
   "mimetype": "text/x-python",
   "name": "python",
   "nbconvert_exporter": "python",
   "pygments_lexer": "ipython3",
   "version": "3.7.11"
  }
 },
 "nbformat": 4,
 "nbformat_minor": 5
}
